{
 "cells": [
  {
   "cell_type": "code",
   "execution_count": 1,
   "metadata": {},
   "outputs": [
    {
     "name": "stdout",
     "output_type": "stream",
     "text": [
      "Highest score: 0.396\n",
      "Row with highest score: [CV 3/5] END learning_rate=0.1, max_depth=5, max_features=sqrt, min_samples_leaf=1, min_samples_split=2, n_estimators=200, subsample=1.0;, score=0.396 total time=   1.4s\n"
     ]
    }
   ],
   "source": [
    "# Python script to find the highest score and print the entire row\n",
    "\n",
    "# Open and read the file\n",
    "file_path = 'output_test.txt'\n",
    "\n",
    "highest_score = float('-inf')  # Initialize the highest score as negative infinity\n",
    "best_row = ''  # Variable to store the row with the highest score\n",
    "\n",
    "# Read the file line by line\n",
    "with open(file_path, 'r') as file:\n",
    "    for line in file:\n",
    "        # Check if the line contains 'score='\n",
    "        if 'score=' in line:\n",
    "            # Extract the score value\n",
    "            try:\n",
    "                score_part = line.split('score=')[1]\n",
    "                score = float(score_part.split()[0].strip(';'))  # Extract the numeric value\n",
    "                \n",
    "                # Update the highest score and the best row\n",
    "                if score > highest_score:\n",
    "                    highest_score = score\n",
    "                    best_row = line.strip()\n",
    "            except (IndexError, ValueError):\n",
    "                continue\n",
    "\n",
    "# Output the result\n",
    "print(f\"Highest score: {highest_score}\")\n",
    "print(f\"Row with highest score: {best_row}\")\n",
    "\n"
   ]
  },
  {
   "cell_type": "code",
   "execution_count": null,
   "metadata": {},
   "outputs": [],
   "source": []
  }
 ],
 "metadata": {
  "kernelspec": {
   "display_name": "Python 3",
   "language": "python",
   "name": "python3"
  },
  "language_info": {
   "codemirror_mode": {
    "name": "ipython",
    "version": 3
   },
   "file_extension": ".py",
   "mimetype": "text/x-python",
   "name": "python",
   "nbconvert_exporter": "python",
   "pygments_lexer": "ipython3",
   "version": "3.11.9"
  }
 },
 "nbformat": 4,
 "nbformat_minor": 2
}
